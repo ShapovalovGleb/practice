{
  "nbformat": 4,
  "nbformat_minor": 0,
  "metadata": {
    "colab": {
      "name": "Pranctice_3_KM-01_<name>.ipynb",
      "provenance": [],
      "collapsed_sections": []
    },
    "kernelspec": {
      "name": "Python 3.8.6 64-bit",
      "display_name": "Python 3.8.6 64-bit",
      "metadata": {
        "interpreter": {
          "hash": "635786f3c616e5082faba817695a586ef3cca1f282ee2c9be93603215f8cb805"
        }
      }
    }
  },
  "cells": [
    {
      "cell_type": "markdown",
      "metadata": {
        "id": "1bRxWHr5e8kt"
      },
      "source": [
        "# **Курс \"Програмування на мові Python\"**\n",
        "\n",
        "##### Викладачі:\n",
        "##### Борисенко Павло Борисович\n",
        "##### Щьоголєв Максим Олегович"
      ]
    },
    {
      "cell_type": "markdown",
      "metadata": {
        "id": "buZUwUgFe-kx"
      },
      "source": [
        "## **Практичне зайняття №4**\n",
        "### Тема: \"Цикли. Робота зі списками\""
      ]
    },
    {
      "cell_type": "markdown",
      "metadata": {
        "id": "PUkxEn8EfAUe"
      },
      "source": [
        "### **Завдання 1 (1,5 бали)**\n",
        "\n"
      ]
    },
    {
      "source": [
        "Продавець роздрібного товару влаштовує розпродаж. Для всіх товарів знижка однакова - 60%. Щоб вивісити нові цінники, продавець хоче скласти таблицю, в якій для кожного товару буде підрахована його нова вартість та сума знижки.\n",
        "\n",
        "Написати програму, яка буде генерувати таку таблицю. Вартість одиниць товарів до розпродажу подано у списку products_list. \n",
        "\n",
        "1. Для підрахунку невідомих значень та їх виведення повинен використовуватись цикл.\n",
        "\n",
        "2. Вартість з урахуванням знижки та суми знижок для кожного товару повинні зберігатись у двох окремих списках. Порядок товарів у нових списках повинен бути такий самий, як і в списку products_list.\n",
        "\n",
        "3. Кожне підраховане числове значення має бути округлене до сотих. Для цього слід використати функцію round(). Приклад застосування цієї функції:\n",
        "\n",
        "```\n",
        "value_new = round(2.3741, 2)\n",
        "print(value_new)\n",
        "```\n",
        "\n",
        "4. Дані повинні виводитись у вигляді:\n",
        "\n",
        "**Discount table:**\n",
        "\n",
        "**29.25 11.7 17.55**\n",
        "\n",
        "**48.99 19.6 29.39**\n",
        "\n",
        "**...**\n",
        "\n",
        "\n",
        "products_list = [[29.25, 48.99, 99.98, 124.65, 214.30, 543.90, 799.85]]"
      ],
      "cell_type": "markdown",
      "metadata": {}
    },
    {
      "cell_type": "code",
      "execution_count": 59,
      "metadata": {},
      "outputs": [
        {
          "output_type": "stream",
          "name": "stdout",
          "text": [
            "Discount table:\n29.25 17.55 11.7\n48.99 29.39 19.6\n99.98 59.99 39.99\n124.65 74.79 49.86\n214.3 128.58 85.72\n543.9 326.34 217.56\n799.85 479.91 319.94\n"
          ]
        }
      ],
      "source": [
        "products_list = [29.25, 48.99, 99.98, 124.65, 214.30, 543.90, 799.85]\n",
        "products_list_znzhk = [round((a * 0.6), 2) for a in products_list]\n",
        "products_list_summa = [round(x-y, 2) for x, y  in zip(products_list, products_list_znzhk)]\n",
        "\n",
        "print(\"Discount table:\")\n",
        "for i, h, z in zip(products_list, products_list_znzhk, products_list_summa):\n",
        "    print(i, h, z)   \n",
        "\n",
        "\n",
        "\n"
      ]
    },
    {
      "source": [
        "### **Завдання 2 (1,5 бали)**"
      ],
      "cell_type": "markdown",
      "metadata": {}
    },
    {
      "cell_type": "markdown",
      "metadata": {
        "id": "4n4p_pz7gFKM"
      },
      "source": [
        "Перелічуючи деякі предмети у тексті, ми ставимо між ними коми. В англійській мові слово and зазвичай ставлять між останнім та передостаннім словом у переліку (за виключенням випадку, коли у списку всього одне слово). Також в англійській мові прийнято ставити кому перед and (оксфордська кома), якщо в переліку більше двох найменувань. Розглянемо 4 приклади:\n",
        "\n",
        "**apples**\n",
        "\n",
        "**apples and oranges**\n",
        "\n",
        "**apples, oranges, and bananas**\n",
        "\n",
        "**apples, oranges, bananas, and lemons**\n",
        "\n",
        "Напишіть програму, яка:\n",
        "\n",
        "1. отримує на вхід перелік деяких предметів, які користувач вводить з клавіатури, та записує їх у список у вигляді окремих елементів;\n",
        "\n",
        "2. виводить ці предмети у тій самій послідовності, в якій вони були введені, розставляючи коми та слово and так, як показано у прикладі."
      ]
    },
    {
      "cell_type": "code",
      "metadata": {
        "id": "Nv66Jkkpf-sI"
      },
      "source": [
        "s = input(\"Enter your words: \") \n",
        "a = s.split() \n",
        "b = len(a)\n",
        "if b == 2:\n",
        "    a.insert(1, 'and')\n",
        "    s = [print(z, end=' ') for z in a]\n",
        "if b == 1:\n",
        "    print(s)\n",
        "elif b > 2:\n",
        "    x = (b % 2)\n",
        "    if x != 1:\n",
        "        for i in range(1, b, 2):\n",
        "            a.insert(i, ', ')\n",
        "            n = len(a)\n",
        "        a.insert(n-1, ', and ')\n",
        "        s = [print(z, end=\" \") for z in a]\n",
        "    if x == 1:\n",
        "        for i in range(1, b, 2):\n",
        "            a.insert(i, ', ')\n",
        "            n = len(a)\n",
        "        a.insert(n-1, ', and ')\n",
        "        s = [print(z, end=\" \") for z in a]\n",
        "    \n",
        "    \n"
      ],
      "execution_count": 1,
      "outputs": [
        {
          "output_type": "stream",
          "name": "stdout",
          "text": [
            "Добрий and день! "
          ]
        }
      ]
    },
    {
      "source": [
        "Шаповалов Гліб КМ-03"
      ],
      "cell_type": "markdown",
      "metadata": {}
    },
    {
      "cell_type": "code",
      "execution_count": null,
      "metadata": {},
      "outputs": [],
      "source": []
    }
  ]
}