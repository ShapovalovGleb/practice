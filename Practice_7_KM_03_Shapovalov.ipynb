{
  "nbformat": 4,
  "nbformat_minor": 0,
  "metadata": {
    "colab": {
      "name": "Practice_7_KM-01_.ipynb",
      "provenance": [],
      "collapsed_sections": []
    },
    "kernelspec": {
      "name": "Python 3.8.6 64-bit",
      "display_name": "Python 3.8.6 64-bit",
      "metadata": {
        "interpreter": {
          "hash": "635786f3c616e5082faba817695a586ef3cca1f282ee2c9be93603215f8cb805"
        }
      }
    }
  },
  "cells": [
    {
      "cell_type": "markdown",
      "metadata": {
        "id": "FMqboNwO4rVs"
      },
      "source": [
        "# **Курс \"Програмування на мові Python\"**\n",
        "\n",
        "##### Викладачі:\n",
        "##### Борисенко Павло Борисович\n",
        "##### Щьоголєв Максим Олегович\n"
      ]
    },
    {
      "cell_type": "markdown",
      "metadata": {
        "id": "A2T6MigL5Z06"
      },
      "source": [
        "## **Практичне зайняття №7**\n",
        "\n",
        "### Тема: \"Перевірка даних. Робота з виключеннями. Регулярні вирази\""
      ]
    },
    {
      "cell_type": "markdown",
      "metadata": {
        "id": "cfCdgK2zXm7e"
      },
      "source": [
        "### **Завдання 1 (1,5 бали)**\n",
        "\n",
        "Переробити завдання №1 практичної роботи №6 з використанням регулярних виразів.\n",
        "\n",
        "1. Створити шаблон регулярного виразу.\n",
        "\n",
        "2. За допомогою функції compile() створити об'єкт регулярного виразу.\n",
        "\n",
        "3. Всі інші вимоги залишаються такими ж, як і в оригінальному завданні."
      ]
    },
    {
      "cell_type": "code",
      "metadata": {
        "id": "ifNX2M7LXm7f"
      },
      "source": [
        "import re\n",
        "\n",
        "pose_estimation = \"[BodyPart:0-(0.55, 0.17) score=0.81 BodyPart:1-(0.49, 0.27) score=0.85 BodyPart:2-(0.41, 0.26) score=0.67 BodyPart:3-(0.33, 0.37) score=0.72 BodyPart:4-(0.36, 0.48) score=0.78 BodyPart:5-(0.58, 0.27) score=0.81 BodyPart:6-(0.65, 0.38) score=0.88 BodyPart:7-(0.62, 0.48) score=0.86 BodyPart:8-(0.43, 0.48) score=0.60 BodyPart:9-(0.43, 0.66) score=0.67 BodyPart:10-(0.53, 0.79) score=0.56 BodyPart:11-(0.53, 0.48) score=0.56 BodyPart:12-(0.59, 0.66) score=0.75 BodyPart:13-(0.49, 0.80) score=0.50 BodyPart:14-(0.54, 0.15) score=0.73 BodyPart:15-(0.56, 0.15) score=0.85 BodyPart:16-(0.48, 0.16) score=0.81 BodyPart:17-(0.83, 0.18) score=0.79]\"\n",
        "p = re.compile(r'BodyPart:')\n",
        "l = re.compile(r'score=')\n",
        "c = l.split(pose_estimation)\n",
        "c = p.split(' '.join(c))\n",
        "del c[0]\n",
        "list1 = []\n",
        "list2 = []\n",
        "list3 = []\n",
        "list4 = []\n",
        "def score():\n",
        "    for i in c:\n",
        "        str1 = ''.join(i)\n",
        "        str1 = str1.replace(\"'\", '').replace(',', '').replace('(', '').replace(')', '').replace('-', ' ').replace(']', '').replace('[', '')\n",
        "        str1 = str1.split()\n",
        "        del str1[0]\n",
        "        str2 = str1[:2]\n",
        "        str3 = str1[2:]\n",
        "        str2 = list(str2)\n",
        "        str3 = list(str3)\n",
        "        list1.append(str2)\n",
        "        list2.append(str3)\n",
        "    for d in list1:\n",
        "        for v in d:\n",
        "            list3.append(v)\n",
        "            for g in list3:\n",
        "                g = float(g)\n",
        "    for d in list2:\n",
        "        for v in d:\n",
        "            list4.append(v)\n",
        "            for g in list4:\n",
        "                g = float(g)\n",
        "    print('points =', list3)\n",
        "    print('scores =', list4)\n",
        "score()"
      ],
      "execution_count": 13,
      "outputs": [
        {
          "output_type": "stream",
          "name": "stdout",
          "text": [
            "points = ['0.55', '0.17', '0.49', '0.27', '0.41', '0.26', '0.33', '0.37', '0.36', '0.48', '0.58', '0.27', '0.65', '0.38', '0.62', '0.48', '0.43', '0.48', '0.43', '0.66', '0.53', '0.79', '0.53', '0.48', '0.59', '0.66', '0.49', '0.80', '0.54', '0.15', '0.56', '0.15', '0.48', '0.16', '0.83', '0.18']\nscores = ['0.81', '0.85', '0.67', '0.72', '0.78', '0.81', '0.88', '0.86', '0.60', '0.67', '0.56', '0.56', '0.75', '0.50', '0.73', '0.85', '0.81', '0.79']\n"
          ]
        }
      ]
    },
    {
      "cell_type": "markdown",
      "metadata": {
        "id": "M1Sg0vXJXm7n"
      },
      "source": [
        "### **Завдання 2 (1,5 бали)**\n",
        "\n",
        "Написати програму підрахунку коренів квадратного рівняння без попередніх перевірок.\n",
        "\n",
        "1. Користувач має вводити коефіцієнти a, b та c з клавіатури.\n",
        "\n",
        "2. Програма має обробляти помилки ділення на 0, кореня від'ємного числа та інші, а також виводити відповідні повідомлення у разі виникнення таких помилок.\n",
        "\n",
        "3. Якщо рівняння не має коренів, программа має генерувати помилку за допомогою ключового слова raise, а потім обробляти її.\n",
        "\n",
        "4. Правильно написана програма при виникненні різних помилок має виводити текст помилки, а також різні повідомлення про те, в чому суть цих помилок. Необроблених помилок бути не повинно."
      ]
    },
    {
      "cell_type": "code",
      "metadata": {
        "id": "co7fcAuvXm7o"
      },
      "source": [
        "import math\n",
        "\n",
        "print('Рівняння виду ax^2 + bx + c = 0')\n",
        "def float_check():\n",
        "    try:\n",
        "        return float(input('Введіть коефіцієнти (по рахунку a, b та с) '))\n",
        "    except ValueError:\n",
        "        print('Вводити треба тільки числа! Спробуйте ще раз')\n",
        "        return float_check()\n",
        "\n",
        "\n",
        "a = float_check()\n",
        "b = float_check()\n",
        "c = float_check()\n",
        "if a == 0 and b == 0 and c != 0:\n",
        "    try:\n",
        "        if a == 0 and b == 0 and c != 0:\n",
        "            raise ValueError('Рівняння не має коренів!')\n",
        "    except ValueError as ve:\n",
        "        print(ve)\n",
        "        print('Ділити на нуль неможливо!! (коеф-ти А та B доріванюють нулеві!)')\n",
        "elif a == 0 and b != 0:\n",
        "    print('Рівняння рішення має:')\n",
        "    print('x=', (-c/b))\n",
        "elif a == 0 and b == 0 and c == 0:\n",
        "    print('Рівняння рішення має:')\n",
        "    print('Рішенням рівняння буде множина всіх дійсних чисел')\n",
        "else:\n",
        "    try:\n",
        "        d = ((b**2) - 4*a*c)\n",
        "        if d < 0:\n",
        "            raise ValueError('Рівняння не має коренів: ')\n",
        "    except ValueError as ve:\n",
        "        print(ve)\n",
        "    else:\n",
        "        print('Рівняння має рішення: ')\n",
        "\n",
        "    try:\n",
        "        x1 = (-b+math.sqrt(d))/(2*a)\n",
        "        x2 = (-b-math.sqrt(d))/(2*a)\n",
        "        if d < 0:\n",
        "            raise ValueError()\n",
        "    except ValueError as er:\n",
        "        print(er)\n",
        "        print(\"Неможливо добути корінь із від'ємного числа (дискримінант менше нуля)\")\n",
        "    else:\n",
        "        if d == 0:\n",
        "            x1 = x2\n",
        "            print('x1 =', round(x1, 2), end = '')\n",
        "        elif d > 0:\n",
        "            print('x1 =', round(x1, 2), '\\nx2=', round(x2, 2))\n",
        "\n"
      ],
      "execution_count": 11,
      "outputs": [
        {
          "output_type": "stream",
          "name": "stdout",
          "text": [
            "Рівняння виду ax^2 + bx + c = 0\n",
            "Рівняння рішення має:\n",
            "Рішенням рівняння буде множина всіх дійсних чисел\n"
          ]
        }
      ]
    },
    {
      "cell_type": "code",
      "execution_count": null,
      "metadata": {},
      "outputs": [],
      "source": []
    }
  ]
}