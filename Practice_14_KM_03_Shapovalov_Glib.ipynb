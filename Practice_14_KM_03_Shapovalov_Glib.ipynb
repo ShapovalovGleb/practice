{
  "nbformat": 4,
  "nbformat_minor": 0,
  "metadata": {
    "colab": {
      "name": "Practice_14_KM_01.ipynb",
      "provenance": [],
      "collapsed_sections": []
    },
    "kernelspec": {
      "name": "python3",
      "display_name": "Python 3.8.6 64-bit",
      "metadata": {
        "interpreter": {
          "hash": "635786f3c616e5082faba817695a586ef3cca1f282ee2c9be93603215f8cb805"
        }
      }
    }
  },
  "cells": [
    {
      "cell_type": "markdown",
      "metadata": {
        "id": "FMqboNwO4rVs"
      },
      "source": [
        "# **Курс \"Програмування на мові Python\"**\n",
        "\n",
        "##### Викладачі:\n",
        "##### Борисенко Павло Борисович\n",
        "##### Щьоголєв Максим Олегович\n"
      ]
    },
    {
      "cell_type": "markdown",
      "metadata": {
        "id": "A2T6MigL5Z06"
      },
      "source": [
        "## **Практичне зайняття №14**\n",
        "\n",
        "### Тема: \"Робота з файлами\""
      ]
    },
    {
      "cell_type": "markdown",
      "metadata": {
        "id": "cfCdgK2zXm7e"
      },
      "source": [
        "### **Завдання 1 (1,5 бали)**\n",
        "\n",
        "У 1939 році друком вийшов роман американського письменика Ернеста Вінсента Райта \"Ґедсбі\". Особливу увагу публіки він здобув через те, що письменник жодного разу не використав у романі літеру \"e\" (роман складається з більше ніж 50,000 слів), яка є найбільш вживаною літерою в англійській мові.\n",
        "\n",
        "Порахуйте кількість входжень кожної літери у текст роману. Виведіть список літер англійського алфавіту, а також інформацію про те, скільки відсотків від усіх літер тексту складає кожна літера алфавіту.\n",
        "\n",
        "Зауваження:\n",
        "\n",
        "1. Програма має ігнорувати будь-які символи, окрім літер.\n",
        "\n",
        "2. Переведіть усі літери у верхній або у нижній регістр.\n",
        "\n",
        "3. Під час виведення відсортуйте літери у порядку зменшення їхнього відсотка. Літера \"e\" має стояти на останньому місці у цьому списку.\n",
        "\n",
        "4. Виведіть перші 5 та останні 5 літер відсортованого списку разом з відсотковими значеннями, що їм відповідають."
      ]
    },
    {
      "cell_type": "code",
      "metadata": {
        "tags": [],
        "id": "u4-fHJJ6U462"
      },
      "source": [
        "file = open('gadsby.txt', 'r')\n",
        "file_lines = file.read().upper()\n",
        "lst = []\n",
        "dct = {}\n",
        "for i in file_lines:\n",
        "    if i not in lst and i.isalpha():\n",
        "\n",
        "        dct[round(round(file_lines.count(i) / len(file_lines), 5)*100, 7)] = i\n",
        "        lst.append(i)\n",
        "\n",
        "lst_pr = list(dct.keys())\n",
        "lst_pr.sort()\n",
        "for i in range(1, 6):\n",
        "    print(dct.get(lst_pr[-i]) + ': ' +  str(lst_pr[-i]) + '%')\n",
        "for i in reversed(range(0, 5)):\n",
        "    print(dct.get(lst_pr[i]) + ': ' +  str(lst_pr[i]) + '%')\n",
        "file.close()\n",
        "\n",
        "\n"
      ],
      "execution_count": 7,
      "outputs": [
        {
          "output_type": "stream",
          "name": "stdout",
          "text": [
            "A: 8.298%\nO: 7.894%\nI: 6.687%\nN: 6.514%\nT: 6.436%\nJ: 0.174%\nZ: 0.081%\nX: 0.06%\nQ: 0.039%\nE: 0.001%\n"
          ]
        }
      ]
    },
    {
      "cell_type": "markdown",
      "metadata": {
        "id": "A34oz70eU463"
      },
      "source": [
        "### **Завдання 2 (1,5 бали)**\n",
        "\n",
        "Створіть CSV-файл, що буде містити від 5 до 10 пісень (творів) вашого улюбленого музиканта. Назва файлу - ім'я музиканта (композитора) або назва гурту.\n",
        "\n",
        "1. Обов'язково додайте до файлу рядок з назвами двох колонок (Song, Year) або (Composition, Year).\n",
        "\n",
        "2. Після запису файлу роздрукуйте назву файлу та усі наявні у файлі рядки (включно із заголовками).\n",
        "\n",
        "3. Для запису та зчитування рядків скористайтесь функціями csv.DictWriter() та csv.DictReader()."
      ]
    },
    {
      "cell_type": "code",
      "metadata": {
        "id": "MEJIrG1GU463"
      },
      "source": [
        "import csv\n",
        "\n",
        "with open('rammstein.csv', 'w', newline='') as csvfile:\n",
        "    filednames = ['Song', 'Year']\n",
        "    writer = csv.DictWriter(csvfile, fieldnames=filednames)\n",
        "    writer.writeheader()\n",
        "    writer.writerow({'Song': '\"Du hast\"',\n",
        "                    'Year': '1997'})\n",
        "    writer.writerow({'Song': '\"Deutchland\"',\n",
        "                     'Year': '2019'})\n",
        "    writer.writerow({'Song': '\"Sonne\"',\n",
        "                     'Year': '2001'})\n",
        "    writer.writerow({'Song': '\"Ich will\"',\n",
        "                     'Year': '2001'})\n",
        "    writer.writerow({'Song': '\"Mutter\"',\n",
        "                     'Year': '2002'})\n",
        "    writer.writerow({'Song': '\"Wass Ich Liebe\"',\n",
        "                     'Year': '2019'})\n",
        "file = open('rammstein.csv', 'r')\n",
        "print(file.name, '\\n\\n')\n",
        "with open('rammstein.csv', newline='') as csvfile:\n",
        "    reader = csv.DictReader(csvfile)\n",
        "    for i in reader.fieldnames:\n",
        "        print(i, end=' ')\n",
        "    print('\\n')\n",
        "    for row in reader:\n",
        "        print(row['Song'], row['Year'])\n",
        "file.close()"
      ],
      "execution_count": 1,
      "outputs": [
        {
          "output_type": "stream",
          "name": "stdout",
          "text": [
            "rammstein.csv \n\n\nSong Year \n\n\"Du hast\" 1997\n\"Deutchland\" 2019\n\"Sonne\" 2001\n\"Ich will\" 2001\n\"Mutter\" 2002\n\"Wass Ich Liebe\" 2019\n"
          ]
        }
      ]
    },
    {
      "cell_type": "markdown",
      "metadata": {
        "id": "Jb-eSBsWU464"
      },
      "source": [
        "### **Завдання 3 (бонусне, 1 бал)**\n",
        "\n",
        "COCO Dataset - набір фотографій та анотацій до них. Його дуже часто використовують для тренування класифікаторів, призначених для розпізнавання об'єктів та визначення ключових точок на зображеннях.\n",
        "\n",
        "Завантажте файли з описом фотографій COCO Dataset за посиланням: http://images.cocodataset.org/annotations/image_info_test2017.zip\n",
        "\n",
        "1. Відкрийте файл image_info_test-dev2017.json. Інформація про фотографії з бази COCO міститься у полі \"images\". Інформація про категорії, на які розділені всі фотографії, міститься у полі \"categories\".\n",
        "\n",
        "2. Визначте кількість фотографій, інформацію про які можна знайти у цьому файлі (кількість елементів, що відповідають ключу \"images\").\n",
        "\n",
        "3. Визначте кількість наявних категорій (кількість елементів, що відповідають ключу \"categories\").\n",
        "\n",
        "4. Виведіть посилання на фотографію 000000000001.jpg (\"coco_url\"), висоту цієї фотографії (\"height\"), ширину (\"width\") та її ідентифікатор (\"id\").\n",
        "\n",
        "5. Опис структури JSON-файлу для набору фотографій COCO можна знайти за посиланням: https://cocodataset.org/#format-data\n",
        "\n",
        "6. Щоб перевірити правильність результатів, у VS Code встановіть розширення JSON та відкрийте файл image_info_test-dev2017.json. Розширення автоматично визначає кількість елементів у кожному полі."
      ]
    },
    {
      "cell_type": "code",
      "metadata": {
        "id": "74C6WKB_U464",
        "tags": []
      },
      "source": [
        "import json\n",
        "\n",
        "\n",
        "with open('image_info_test2017.json') as jsfile:\n",
        "    data = json.load(jsfile)\n",
        "    images = len(data['images'])\n",
        "    categories = len(data['categories'])\n",
        "    dict_image = dict\n",
        "    print(dict_image)\n",
        "    print('images:', images)\n",
        "    print('categories:', categories)\n",
        "    for dict in data['images']:\n",
        "        if dict['file_name'] == '000000000001.jpg':\n",
        "            print('url:', dict_image['coco_url'])\n",
        "            print('Висота:', dict_image['height'])\n",
        "            print('Ширина:', dict_image['width'])\n",
        "            print('Ідентифікатор:', dict_image['id'])\n",
        "            break"
      ],
      "execution_count": 17,
      "outputs": [
        {
          "output_type": "stream",
          "name": "stdout",
          "text": [
            "{'license': 4, 'file_name': '000000000001.jpg', 'coco_url': 'http://images.cocodataset.org/test2017/000000000001.jpg', 'height': 480, 'width': 640, 'date_captured': '2013-11-17 10:40:31', 'id': 1}\nimages: 40670\ncategories: 80\nurl: http://images.cocodataset.org/test2017/000000000001.jpg\nВисота: 480\nШирина: 640\nІдентифікатор: 1\n"
          ]
        }
      ]
    },
    {
      "cell_type": "code",
      "execution_count": null,
      "metadata": {},
      "outputs": [],
      "source": []
    }
  ]
}